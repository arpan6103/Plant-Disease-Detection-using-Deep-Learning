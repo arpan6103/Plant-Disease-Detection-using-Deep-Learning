{
  "nbformat": 4,
  "nbformat_minor": 0,
  "metadata": {
    "colab": {
      "provenance": [],
      "gpuType": "T4"
    },
    "kernelspec": {
      "name": "python3",
      "display_name": "Python 3"
    },
    "language_info": {
      "name": "python"
    },
    "accelerator": "GPU"
  },
  "cells": [
    {
      "cell_type": "markdown",
      "source": [
        "#To Do:\n",
        "\n",
        "* fix the folder names in Google Drive:\n",
        "\n",
        "    Apple(1)/Train -> Apple/Train and so on\n",
        "\n",
        "* add explainatory comments for yourself and others\n",
        "* fix and share Google drive with other so that they can run the code on their end as well\n",
        "* Quickly finish preprocessing (our base data is good) apply a few models and compute the results by Saturday night"
      ],
      "metadata": {
        "id": "LRbwxW83sUd8"
      }
    },
    {
      "cell_type": "markdown",
      "source": [
        "#Code"
      ],
      "metadata": {
        "id": "HsMw9RjWtEUF"
      }
    },
    {
      "cell_type": "code",
      "source": [
        "import os\n",
        "import numpy as np\n",
        "from PIL import Image\n",
        "from google.colab import drive\n",
        "\n",
        "import numpy as np\n",
        "import tensorflow as tf\n",
        "from sklearn.preprocessing import OneHotEncoder\n",
        "from tensorflow.keras import layers, models\n",
        "from tensorflow.keras.callbacks import EarlyStopping, ReduceLROnPlateau, ModelCheckpoint"
      ],
      "metadata": {
        "id": "ApYWgTXoTL6d"
      },
      "execution_count": null,
      "outputs": []
    },
    {
      "cell_type": "markdown",
      "source": [
        "# New section"
      ],
      "metadata": {
        "id": "T3zENJYjx2XG"
      }
    },
    {
      "cell_type": "code",
      "source": [
        "from google.colab import drive\n",
        "\n",
        "drive.mount(\"/content/gdrive\")"
      ],
      "metadata": {
        "id": "NY527odNgNd0",
        "colab": {
          "base_uri": "https://localhost:8080/"
        },
        "outputId": "be3e8c39-6f21-4b20-c5fe-fa2a0e3a6b28"
      },
      "execution_count": null,
      "outputs": [
        {
          "output_type": "stream",
          "name": "stdout",
          "text": [
            "Mounted at /content/gdrive\n"
          ]
        }
      ]
    },
    {
      "cell_type": "code",
      "execution_count": null,
      "metadata": {
        "id": "3FG6l6PrNEaT",
        "colab": {
          "base_uri": "https://localhost:8080/"
        },
        "outputId": "51aecba9-63fe-4f4a-f178-bf843da1616f"
      },
      "outputs": [
        {
          "output_type": "stream",
          "name": "stdout",
          "text": [
            "Mounted at /content/drive\n"
          ]
        }
      ],
      "source": [
        "drive.mount('/content/drive', force_remount = True)\n"
      ]
    },
    {
      "cell_type": "markdown",
      "source": [
        "# Convert Images to np arrays and create labels"
      ],
      "metadata": {
        "id": "Ks62AtZjQxpg"
      }
    },
    {
      "cell_type": "code",
      "source": [
        "# Set the paths to the train, test, and validation directories\n",
        "train_dir = '/content/drive/MyDrive/archive/Tomato (1)/Train'\n",
        "test_dir = '/content/drive/MyDrive/archive/Tomato (1)/Test'\n",
        "val_dir = '/content/drive/MyDrive/archive/Tomato (1)/Val'\n",
        "\n"
      ],
      "metadata": {
        "id": "TXk2Q32d6cqt"
      },
      "execution_count": null,
      "outputs": []
    },
    {
      "cell_type": "code",
      "source": [
        "from google.colab import drive\n",
        "drive.mount('/content/drive')"
      ],
      "metadata": {
        "id": "yBuYa_sYcGTx",
        "colab": {
          "base_uri": "https://localhost:8080/"
        },
        "outputId": "63598200-e4eb-40f3-a981-61f751a14700"
      },
      "execution_count": null,
      "outputs": [
        {
          "output_type": "stream",
          "name": "stdout",
          "text": [
            "Drive already mounted at /content/drive; to attempt to forcibly remount, call drive.mount(\"/content/drive\", force_remount=True).\n"
          ]
        }
      ]
    },
    {
      "cell_type": "code",
      "source": [
        "print(os.listdir(train_dir))"
      ],
      "metadata": {
        "id": "JO-6R0zx9DzG",
        "colab": {
          "base_uri": "https://localhost:8080/"
        },
        "outputId": "6627ffdb-fa47-4730-f118-e2fd22423428"
      },
      "execution_count": null,
      "outputs": [
        {
          "output_type": "stream",
          "name": "stdout",
          "text": [
            "['Septoria Leaf Spot', 'Early Blight', 'Bacterial Spot', 'Healthy', 'Yellow Leaf Curl Virus', 'Late Blight']\n"
          ]
        }
      ]
    },
    {
      "cell_type": "code",
      "source": [
        "\n",
        "# # Function to read and store images from a directory\n",
        "# def read_images(directory):\n",
        "#     images = []\n",
        "#     labels = []\n",
        "\n",
        "#     # Iterate over the subdirectories (classes)\n",
        "#     for class_name in os.listdir(directory):\n",
        "#         class_dir = os.path.join(directory, class_name)\n",
        "#         if os.path.isdir(class_dir):\n",
        "#             # Iterate over the files in the subdirectory\n",
        "#             for filename in os.listdir(class_dir):\n",
        "#                 if filename.endswith('.jpg') or filename.endswith('.png'):\n",
        "#                     # Read the image file\n",
        "#                     img = Image.open(os.path.join(class_dir, filename))\n",
        "#                     # Convert the image to a NumPy array\n",
        "#                     img_array = np.array(img)\n",
        "#                     # Store the image array\n",
        "#                     images.append(img_array)\n",
        "#                     # Store the label\n",
        "#                     labels.append(class_name)\n",
        "\n",
        "#     return np.array(images), np.array(labels)\n",
        "\n",
        "# # Read and store images from the train directory\n",
        "# train_images, train_labels = read_images(train_dir)\n",
        "\n",
        "# # Read and store images from the test directory\n",
        "# test_images, test_labels = read_images(test_dir)\n",
        "\n",
        "# # Read and store images from the validation directory\n",
        "# val_images, val_labels = read_images(val_dir)\n",
        "\n",
        "# # Print the shape of the arrays\n",
        "# print(\"Train images shape:\", train_images.shape)\n",
        "# print(\"Train labels shape:\", train_labels.shape)\n",
        "# print(\"Test images shape:\", test_images.shape)\n",
        "# print(\"Test labels shape:\", test_labels.shape)\n",
        "# print(\"Validation images shape:\", val_images.shape)\n",
        "# print(\"Validation labels shape:\", val_labels.shape)\n"
      ],
      "metadata": {
        "id": "k46X2fX6QU1E"
      },
      "execution_count": null,
      "outputs": []
    },
    {
      "cell_type": "code",
      "source": [
        "for folderName in os.listdir(train_dir):\n",
        "    print(folderName + '\\n')\n",
        "    # for fileName in os.listdir(train_dir + '/' + folderName):\n",
        "        # print(fileName)"
      ],
      "metadata": {
        "id": "92L1BNIA6ffE",
        "colab": {
          "base_uri": "https://localhost:8080/"
        },
        "outputId": "ec90a3fc-a0e4-4658-c2d9-84e3f0f519b1"
      },
      "execution_count": null,
      "outputs": [
        {
          "output_type": "stream",
          "name": "stdout",
          "text": [
            "Septoria Leaf Spot\n",
            "\n",
            "Early Blight\n",
            "\n",
            "Bacterial Spot\n",
            "\n",
            "Healthy\n",
            "\n",
            "Yellow Leaf Curl Virus\n",
            "\n",
            "Late Blight\n",
            "\n"
          ]
        }
      ]
    },
    {
      "cell_type": "code",
      "source": [
        "# images = []\n",
        "# labels = []\n",
        "\n",
        "\n",
        "# for folderName in os.listdir(train_dir):\n",
        "#     # print(folderName + '\\n')\n",
        "#     folder_dir = train_dir + '/' + folderName\n",
        "#     for fileName in os.listdir(folder_dir):\n",
        "#         # print(fileName)\n",
        "#         if fileName.endswith('.JPG'):\n",
        "#             img = Image.open(folder_dir + '/' + fileName)\n",
        "#             img_arr = np.array(img)\n",
        "#             # print(img_arr)\n",
        "#             images.append(img_arr)\n",
        "#             labels.append(folderName)\n",
        "\n",
        "# # print(images)\n",
        "# # print(labels)\n",
        "\n",
        "# images = np.array(images)\n",
        "# labels = np.array(labels)\n",
        "\n",
        "# # # print(images.shape, labels.shape)\n",
        "# # # print(images)\n"
      ],
      "metadata": {
        "id": "_fcB76GZ7syM"
      },
      "execution_count": null,
      "outputs": []
    },
    {
      "cell_type": "code",
      "source": [
        "def img_to_array(dir):\n",
        "    images = []\n",
        "    labels = []\n",
        "\n",
        "    for folderName in os.listdir(dir):\n",
        "        folder_dir = os.path.join(dir, folderName)\n",
        "        if os.path.isdir(folder_dir):\n",
        "            for fileName in os.listdir(folder_dir):\n",
        "                if fileName.endswith('.JPG'):\n",
        "                    img = Image.open(os.path.join(folder_dir, fileName))\n",
        "                    resized_img = img.resize((128, 128))\n",
        "                    img_arr = np.array(resized_img)\n",
        "                    images.append(img_arr)\n",
        "                    labels.append(folderName)\n",
        "\n",
        "    images = np.array(images)\n",
        "    labels = np.array(labels)\n",
        "\n",
        "    print(images.shape, labels.shape)\n",
        "\n",
        "    return images, labels\n",
        "\n",
        "\n"
      ],
      "metadata": {
        "id": "-6KTBotrAZBL"
      },
      "execution_count": null,
      "outputs": []
    },
    {
      "cell_type": "code",
      "source": [
        "# Read and store images from the train directory\n",
        "train_images, train_labels = img_to_array(train_dir)\n",
        "\n",
        "# Read and store images from the test directory\n",
        "test_images, test_labels = img_to_array(test_dir)\n",
        "\n",
        "# Read and store images from the validation directory\n",
        "val_images, val_labels = img_to_array(val_dir)"
      ],
      "metadata": {
        "id": "KFIqxA4BFCeP",
        "colab": {
          "base_uri": "https://localhost:8080/"
        },
        "outputId": "f04dd368-45f7-4aa9-c11f-eea4bd545505"
      },
      "execution_count": null,
      "outputs": [
        {
          "output_type": "stream",
          "name": "stdout",
          "text": [
            "(881, 128, 128, 3) (881,)\n",
            "(170, 128, 128, 3) (170,)\n",
            "(0,) (0,)\n"
          ]
        }
      ]
    },
    {
      "cell_type": "code",
      "source": [
        "# import matplotlib.pyplot as plt\n",
        "\n",
        "# # Visualize multiple training images with their labels\n",
        "# def visualize_train_images(train_images, train_labels, num_images=5):\n",
        "#     fig, axes = plt.subplots(1, num_images, figsize=(15, 3))\n",
        "\n",
        "#     for i in range(num_images):\n",
        "#         axes[i].imshow(train_images[i])\n",
        "#         axes[i].set_title(train_labels[i])\n",
        "#         axes[i].axis('off')\n",
        "\n",
        "#     plt.tight_layout()\n",
        "#     plt.show()\n",
        "\n",
        "# # Visualize the first 5 training images with labels\n",
        "# visualize_train_images(train_images, train_labels, num_images=5)\n"
      ],
      "metadata": {
        "id": "vBinYaznGhIW"
      },
      "execution_count": null,
      "outputs": []
    },
    {
      "cell_type": "code",
      "source": [],
      "metadata": {
        "id": "MwlWXRrtJeRk"
      },
      "execution_count": null,
      "outputs": []
    },
    {
      "cell_type": "markdown",
      "source": [
        "Finished, Reading the images and converting them into np.arrays,\n",
        "the visualized images prove that it has been done properly\n",
        "\n",
        "Next Task ->\n",
        "\n",
        "> * explore and select which pre processing techiniques to apply\n",
        "\n",
        "> * Normalize -> no, not sure as of now\n",
        "\n",
        "> * Filters -> don't understand the need yet...\n",
        "\n",
        "> * Binary Segmentataion -> can use Otsu's Thresholding, check with and without (a few authors used this)\n",
        "\n",
        "> * rotation -> yes, relevant with respect to data given\n",
        "\n",
        "> * brightness -> no for now, can reconsider\n",
        "\n",
        "> * tokenize the labels -> even one-hot-encoding is fine, we have only 4 class of diseases here so 4 bits per label,\n",
        "\n",
        "> * 10,000 images * 4 bits per labels -> good enough + simple\n",
        "\n",
        "\n",
        "\n"
      ],
      "metadata": {
        "id": "B6_kM3SRJrUS"
      }
    },
    {
      "cell_type": "markdown",
      "source": [
        "![Otsu's Thresholding.jpg](data:image/jpeg;base64,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)"
      ],
      "metadata": {
        "id": "XofGozWuP2k-"
      }
    },
    {
      "cell_type": "markdown",
      "source": [
        "# Encode Labels"
      ],
      "metadata": {
        "id": "J2VWDj0HtWpa"
      }
    },
    {
      "cell_type": "code",
      "source": [
        "print(train_labels)"
      ],
      "metadata": {
        "id": "9bIWJWx9JwcN",
        "colab": {
          "base_uri": "https://localhost:8080/"
        },
        "outputId": "f1ff0123-1313-418f-cf3e-2b05c2b922da"
      },
      "execution_count": null,
      "outputs": [
        {
          "output_type": "stream",
          "name": "stdout",
          "text": [
            "['Septoria Leaf Spot' 'Septoria Leaf Spot' 'Septoria Leaf Spot'\n",
            " 'Septoria Leaf Spot' 'Septoria Leaf Spot' 'Septoria Leaf Spot'\n",
            " 'Septoria Leaf Spot' 'Septoria Leaf Spot' 'Septoria Leaf Spot'\n",
            " 'Septoria Leaf Spot' 'Septoria Leaf Spot' 'Septoria Leaf Spot'\n",
            " 'Septoria Leaf Spot' 'Septoria Leaf Spot' 'Septoria Leaf Spot'\n",
            " 'Septoria Leaf Spot' 'Septoria Leaf Spot' 'Septoria Leaf Spot'\n",
            " 'Septoria Leaf Spot' 'Septoria Leaf Spot' 'Septoria Leaf Spot'\n",
            " 'Septoria Leaf Spot' 'Septoria Leaf Spot' 'Septoria Leaf Spot'\n",
            " 'Septoria Leaf Spot' 'Septoria Leaf Spot' 'Septoria Leaf Spot'\n",
            " 'Septoria Leaf Spot' 'Septoria Leaf Spot' 'Septoria Leaf Spot'\n",
            " 'Septoria Leaf Spot' 'Septoria Leaf Spot' 'Septoria Leaf Spot'\n",
            " 'Septoria Leaf Spot' 'Septoria Leaf Spot' 'Septoria Leaf Spot'\n",
            " 'Septoria Leaf Spot' 'Septoria Leaf Spot' 'Septoria Leaf Spot'\n",
            " 'Septoria Leaf Spot' 'Septoria Leaf Spot' 'Septoria Leaf Spot'\n",
            " 'Septoria Leaf Spot' 'Septoria Leaf Spot' 'Septoria Leaf Spot'\n",
            " 'Septoria Leaf Spot' 'Septoria Leaf Spot' 'Septoria Leaf Spot'\n",
            " 'Septoria Leaf Spot' 'Septoria Leaf Spot' 'Septoria Leaf Spot'\n",
            " 'Septoria Leaf Spot' 'Septoria Leaf Spot' 'Septoria Leaf Spot'\n",
            " 'Septoria Leaf Spot' 'Septoria Leaf Spot' 'Septoria Leaf Spot'\n",
            " 'Septoria Leaf Spot' 'Septoria Leaf Spot' 'Septoria Leaf Spot'\n",
            " 'Septoria Leaf Spot' 'Septoria Leaf Spot' 'Septoria Leaf Spot'\n",
            " 'Septoria Leaf Spot' 'Septoria Leaf Spot' 'Septoria Leaf Spot'\n",
            " 'Septoria Leaf Spot' 'Septoria Leaf Spot' 'Septoria Leaf Spot'\n",
            " 'Septoria Leaf Spot' 'Septoria Leaf Spot' 'Septoria Leaf Spot'\n",
            " 'Septoria Leaf Spot' 'Septoria Leaf Spot' 'Septoria Leaf Spot'\n",
            " 'Septoria Leaf Spot' 'Septoria Leaf Spot' 'Septoria Leaf Spot'\n",
            " 'Septoria Leaf Spot' 'Septoria Leaf Spot' 'Septoria Leaf Spot'\n",
            " 'Septoria Leaf Spot' 'Septoria Leaf Spot' 'Septoria Leaf Spot'\n",
            " 'Septoria Leaf Spot' 'Septoria Leaf Spot' 'Septoria Leaf Spot'\n",
            " 'Septoria Leaf Spot' 'Septoria Leaf Spot' 'Septoria Leaf Spot'\n",
            " 'Septoria Leaf Spot' 'Septoria Leaf Spot' 'Septoria Leaf Spot'\n",
            " 'Septoria Leaf Spot' 'Septoria Leaf Spot' 'Septoria Leaf Spot'\n",
            " 'Septoria Leaf Spot' 'Septoria Leaf Spot' 'Septoria Leaf Spot'\n",
            " 'Septoria Leaf Spot' 'Septoria Leaf Spot' 'Septoria Leaf Spot'\n",
            " 'Septoria Leaf Spot' 'Septoria Leaf Spot' 'Septoria Leaf Spot'\n",
            " 'Septoria Leaf Spot' 'Septoria Leaf Spot' 'Septoria Leaf Spot'\n",
            " 'Septoria Leaf Spot' 'Septoria Leaf Spot' 'Septoria Leaf Spot'\n",
            " 'Septoria Leaf Spot' 'Septoria Leaf Spot' 'Septoria Leaf Spot'\n",
            " 'Septoria Leaf Spot' 'Septoria Leaf Spot' 'Septoria Leaf Spot'\n",
            " 'Septoria Leaf Spot' 'Septoria Leaf Spot' 'Septoria Leaf Spot'\n",
            " 'Septoria Leaf Spot' 'Septoria Leaf Spot' 'Septoria Leaf Spot'\n",
            " 'Septoria Leaf Spot' 'Septoria Leaf Spot' 'Septoria Leaf Spot'\n",
            " 'Septoria Leaf Spot' 'Septoria Leaf Spot' 'Septoria Leaf Spot'\n",
            " 'Septoria Leaf Spot' 'Septoria Leaf Spot' 'Septoria Leaf Spot'\n",
            " 'Septoria Leaf Spot' 'Septoria Leaf Spot' 'Septoria Leaf Spot'\n",
            " 'Septoria Leaf Spot' 'Septoria Leaf Spot' 'Septoria Leaf Spot'\n",
            " 'Septoria Leaf Spot' 'Septoria Leaf Spot' 'Septoria Leaf Spot'\n",
            " 'Septoria Leaf Spot' 'Septoria Leaf Spot' 'Septoria Leaf Spot'\n",
            " 'Septoria Leaf Spot' 'Septoria Leaf Spot' 'Septoria Leaf Spot'\n",
            " 'Septoria Leaf Spot' 'Septoria Leaf Spot' 'Early Blight' 'Early Blight'\n",
            " 'Early Blight' 'Early Blight' 'Early Blight' 'Early Blight'\n",
            " 'Early Blight' 'Early Blight' 'Early Blight' 'Early Blight'\n",
            " 'Early Blight' 'Early Blight' 'Early Blight' 'Early Blight'\n",
            " 'Early Blight' 'Early Blight' 'Early Blight' 'Early Blight'\n",
            " 'Early Blight' 'Early Blight' 'Early Blight' 'Early Blight'\n",
            " 'Early Blight' 'Early Blight' 'Early Blight' 'Early Blight'\n",
            " 'Early Blight' 'Early Blight' 'Early Blight' 'Early Blight'\n",
            " 'Early Blight' 'Early Blight' 'Early Blight' 'Early Blight'\n",
            " 'Early Blight' 'Early Blight' 'Early Blight' 'Early Blight'\n",
            " 'Early Blight' 'Early Blight' 'Early Blight' 'Early Blight'\n",
            " 'Early Blight' 'Early Blight' 'Early Blight' 'Early Blight'\n",
            " 'Early Blight' 'Early Blight' 'Early Blight' 'Early Blight'\n",
            " 'Early Blight' 'Early Blight' 'Early Blight' 'Early Blight'\n",
            " 'Early Blight' 'Early Blight' 'Early Blight' 'Early Blight'\n",
            " 'Early Blight' 'Early Blight' 'Early Blight' 'Early Blight'\n",
            " 'Early Blight' 'Early Blight' 'Early Blight' 'Early Blight'\n",
            " 'Early Blight' 'Early Blight' 'Early Blight' 'Early Blight'\n",
            " 'Early Blight' 'Early Blight' 'Early Blight' 'Early Blight'\n",
            " 'Early Blight' 'Early Blight' 'Early Blight' 'Early Blight'\n",
            " 'Early Blight' 'Early Blight' 'Early Blight' 'Early Blight'\n",
            " 'Early Blight' 'Early Blight' 'Early Blight' 'Early Blight'\n",
            " 'Early Blight' 'Early Blight' 'Early Blight' 'Early Blight'\n",
            " 'Early Blight' 'Early Blight' 'Early Blight' 'Early Blight'\n",
            " 'Early Blight' 'Early Blight' 'Early Blight' 'Early Blight'\n",
            " 'Early Blight' 'Early Blight' 'Bacterial Spot' 'Bacterial Spot'\n",
            " 'Bacterial Spot' 'Bacterial Spot' 'Bacterial Spot' 'Bacterial Spot'\n",
            " 'Bacterial Spot' 'Bacterial Spot' 'Bacterial Spot' 'Bacterial Spot'\n",
            " 'Bacterial Spot' 'Bacterial Spot' 'Bacterial Spot' 'Bacterial Spot'\n",
            " 'Bacterial Spot' 'Bacterial Spot' 'Bacterial Spot' 'Bacterial Spot'\n",
            " 'Bacterial Spot' 'Bacterial Spot' 'Bacterial Spot' 'Bacterial Spot'\n",
            " 'Bacterial Spot' 'Bacterial Spot' 'Bacterial Spot' 'Bacterial Spot'\n",
            " 'Bacterial Spot' 'Bacterial Spot' 'Bacterial Spot' 'Bacterial Spot'\n",
            " 'Bacterial Spot' 'Bacterial Spot' 'Bacterial Spot' 'Bacterial Spot'\n",
            " 'Bacterial Spot' 'Bacterial Spot' 'Bacterial Spot' 'Bacterial Spot'\n",
            " 'Bacterial Spot' 'Bacterial Spot' 'Bacterial Spot' 'Bacterial Spot'\n",
            " 'Bacterial Spot' 'Bacterial Spot' 'Bacterial Spot' 'Bacterial Spot'\n",
            " 'Bacterial Spot' 'Bacterial Spot' 'Bacterial Spot' 'Bacterial Spot'\n",
            " 'Bacterial Spot' 'Bacterial Spot' 'Bacterial Spot' 'Bacterial Spot'\n",
            " 'Bacterial Spot' 'Bacterial Spot' 'Bacterial Spot' 'Bacterial Spot'\n",
            " 'Bacterial Spot' 'Bacterial Spot' 'Bacterial Spot' 'Bacterial Spot'\n",
            " 'Bacterial Spot' 'Bacterial Spot' 'Bacterial Spot' 'Bacterial Spot'\n",
            " 'Bacterial Spot' 'Bacterial Spot' 'Bacterial Spot' 'Bacterial Spot'\n",
            " 'Bacterial Spot' 'Bacterial Spot' 'Bacterial Spot' 'Bacterial Spot'\n",
            " 'Bacterial Spot' 'Bacterial Spot' 'Bacterial Spot' 'Bacterial Spot'\n",
            " 'Bacterial Spot' 'Bacterial Spot' 'Bacterial Spot' 'Bacterial Spot'\n",
            " 'Bacterial Spot' 'Bacterial Spot' 'Bacterial Spot' 'Bacterial Spot'\n",
            " 'Bacterial Spot' 'Bacterial Spot' 'Bacterial Spot' 'Bacterial Spot'\n",
            " 'Bacterial Spot' 'Bacterial Spot' 'Bacterial Spot' 'Bacterial Spot'\n",
            " 'Bacterial Spot' 'Bacterial Spot' 'Bacterial Spot' 'Bacterial Spot'\n",
            " 'Bacterial Spot' 'Bacterial Spot' 'Bacterial Spot' 'Bacterial Spot'\n",
            " 'Bacterial Spot' 'Bacterial Spot' 'Bacterial Spot' 'Bacterial Spot'\n",
            " 'Bacterial Spot' 'Bacterial Spot' 'Bacterial Spot' 'Bacterial Spot'\n",
            " 'Bacterial Spot' 'Bacterial Spot' 'Bacterial Spot' 'Bacterial Spot'\n",
            " 'Bacterial Spot' 'Bacterial Spot' 'Bacterial Spot' 'Bacterial Spot'\n",
            " 'Bacterial Spot' 'Bacterial Spot' 'Bacterial Spot' 'Bacterial Spot'\n",
            " 'Bacterial Spot' 'Bacterial Spot' 'Bacterial Spot' 'Bacterial Spot'\n",
            " 'Bacterial Spot' 'Bacterial Spot' 'Bacterial Spot' 'Bacterial Spot'\n",
            " 'Bacterial Spot' 'Bacterial Spot' 'Bacterial Spot' 'Bacterial Spot'\n",
            " 'Bacterial Spot' 'Bacterial Spot' 'Bacterial Spot' 'Bacterial Spot'\n",
            " 'Bacterial Spot' 'Bacterial Spot' 'Bacterial Spot' 'Bacterial Spot'\n",
            " 'Bacterial Spot' 'Bacterial Spot' 'Bacterial Spot' 'Bacterial Spot'\n",
            " 'Bacterial Spot' 'Bacterial Spot' 'Bacterial Spot' 'Bacterial Spot'\n",
            " 'Bacterial Spot' 'Bacterial Spot' 'Bacterial Spot' 'Bacterial Spot'\n",
            " 'Bacterial Spot' 'Bacterial Spot' 'Bacterial Spot' 'Bacterial Spot'\n",
            " 'Bacterial Spot' 'Bacterial Spot' 'Bacterial Spot' 'Bacterial Spot'\n",
            " 'Bacterial Spot' 'Bacterial Spot' 'Bacterial Spot' 'Bacterial Spot'\n",
            " 'Bacterial Spot' 'Bacterial Spot' 'Bacterial Spot' 'Bacterial Spot'\n",
            " 'Bacterial Spot' 'Bacterial Spot' 'Bacterial Spot' 'Bacterial Spot'\n",
            " 'Bacterial Spot' 'Bacterial Spot' 'Bacterial Spot' 'Bacterial Spot'\n",
            " 'Bacterial Spot' 'Bacterial Spot' 'Bacterial Spot' 'Bacterial Spot'\n",
            " 'Bacterial Spot' 'Bacterial Spot' 'Bacterial Spot' 'Bacterial Spot'\n",
            " 'Bacterial Spot' 'Bacterial Spot' 'Bacterial Spot' 'Bacterial Spot'\n",
            " 'Bacterial Spot' 'Healthy' 'Healthy' 'Healthy' 'Healthy' 'Healthy'\n",
            " 'Healthy' 'Healthy' 'Healthy' 'Healthy' 'Healthy' 'Healthy' 'Healthy'\n",
            " 'Healthy' 'Healthy' 'Healthy' 'Healthy' 'Healthy' 'Healthy' 'Healthy'\n",
            " 'Healthy' 'Healthy' 'Healthy' 'Healthy' 'Healthy' 'Healthy' 'Healthy'\n",
            " 'Healthy' 'Healthy' 'Healthy' 'Healthy' 'Healthy' 'Healthy' 'Healthy'\n",
            " 'Healthy' 'Healthy' 'Healthy' 'Healthy' 'Healthy' 'Healthy' 'Healthy'\n",
            " 'Healthy' 'Healthy' 'Healthy' 'Healthy' 'Healthy' 'Healthy' 'Healthy'\n",
            " 'Healthy' 'Healthy' 'Healthy' 'Healthy' 'Healthy' 'Healthy' 'Healthy'\n",
            " 'Healthy' 'Healthy' 'Healthy' 'Healthy' 'Healthy' 'Healthy' 'Healthy'\n",
            " 'Healthy' 'Healthy' 'Healthy' 'Healthy' 'Healthy' 'Healthy' 'Healthy'\n",
            " 'Healthy' 'Healthy' 'Healthy' 'Healthy' 'Healthy' 'Healthy' 'Healthy'\n",
            " 'Healthy' 'Healthy' 'Healthy' 'Healthy' 'Healthy' 'Healthy' 'Healthy'\n",
            " 'Healthy' 'Healthy' 'Healthy' 'Healthy' 'Healthy' 'Healthy' 'Healthy'\n",
            " 'Healthy' 'Healthy' 'Healthy' 'Healthy' 'Healthy' 'Healthy' 'Healthy'\n",
            " 'Healthy' 'Healthy' 'Healthy' 'Healthy' 'Healthy' 'Healthy' 'Healthy'\n",
            " 'Healthy' 'Healthy' 'Healthy' 'Healthy' 'Healthy' 'Healthy' 'Healthy'\n",
            " 'Healthy' 'Healthy' 'Healthy' 'Healthy' 'Healthy' 'Healthy' 'Healthy'\n",
            " 'Healthy' 'Healthy' 'Healthy' 'Healthy' 'Healthy' 'Healthy' 'Healthy'\n",
            " 'Healthy' 'Healthy' 'Healthy' 'Healthy' 'Healthy' 'Healthy' 'Healthy'\n",
            " 'Healthy' 'Healthy' 'Healthy' 'Healthy' 'Healthy' 'Healthy' 'Healthy'\n",
            " 'Healthy' 'Healthy' 'Healthy' 'Healthy' 'Healthy' 'Healthy' 'Healthy'\n",
            " 'Healthy' 'Healthy' 'Healthy' 'Healthy' 'Healthy'\n",
            " 'Yellow Leaf Curl Virus' 'Yellow Leaf Curl Virus'\n",
            " 'Yellow Leaf Curl Virus' 'Yellow Leaf Curl Virus'\n",
            " 'Yellow Leaf Curl Virus' 'Yellow Leaf Curl Virus'\n",
            " 'Yellow Leaf Curl Virus' 'Yellow Leaf Curl Virus'\n",
            " 'Yellow Leaf Curl Virus' 'Yellow Leaf Curl Virus'\n",
            " 'Yellow Leaf Curl Virus' 'Yellow Leaf Curl Virus'\n",
            " 'Yellow Leaf Curl Virus' 'Yellow Leaf Curl Virus'\n",
            " 'Yellow Leaf Curl Virus' 'Yellow Leaf Curl Virus'\n",
            " 'Yellow Leaf Curl Virus' 'Yellow Leaf Curl Virus'\n",
            " 'Yellow Leaf Curl Virus' 'Yellow Leaf Curl Virus'\n",
            " 'Yellow Leaf Curl Virus' 'Yellow Leaf Curl Virus'\n",
            " 'Yellow Leaf Curl Virus' 'Yellow Leaf Curl Virus'\n",
            " 'Yellow Leaf Curl Virus' 'Yellow Leaf Curl Virus'\n",
            " 'Yellow Leaf Curl Virus' 'Yellow Leaf Curl Virus'\n",
            " 'Yellow Leaf Curl Virus' 'Yellow Leaf Curl Virus'\n",
            " 'Yellow Leaf Curl Virus' 'Yellow Leaf Curl Virus'\n",
            " 'Yellow Leaf Curl Virus' 'Yellow Leaf Curl Virus'\n",
            " 'Yellow Leaf Curl Virus' 'Yellow Leaf Curl Virus'\n",
            " 'Yellow Leaf Curl Virus' 'Yellow Leaf Curl Virus'\n",
            " 'Yellow Leaf Curl Virus' 'Yellow Leaf Curl Virus'\n",
            " 'Yellow Leaf Curl Virus' 'Yellow Leaf Curl Virus'\n",
            " 'Yellow Leaf Curl Virus' 'Yellow Leaf Curl Virus'\n",
            " 'Yellow Leaf Curl Virus' 'Yellow Leaf Curl Virus'\n",
            " 'Yellow Leaf Curl Virus' 'Yellow Leaf Curl Virus'\n",
            " 'Yellow Leaf Curl Virus' 'Yellow Leaf Curl Virus'\n",
            " 'Yellow Leaf Curl Virus' 'Yellow Leaf Curl Virus'\n",
            " 'Yellow Leaf Curl Virus' 'Yellow Leaf Curl Virus'\n",
            " 'Yellow Leaf Curl Virus' 'Yellow Leaf Curl Virus'\n",
            " 'Yellow Leaf Curl Virus' 'Yellow Leaf Curl Virus'\n",
            " 'Yellow Leaf Curl Virus' 'Yellow Leaf Curl Virus'\n",
            " 'Yellow Leaf Curl Virus' 'Yellow Leaf Curl Virus'\n",
            " 'Yellow Leaf Curl Virus' 'Yellow Leaf Curl Virus'\n",
            " 'Yellow Leaf Curl Virus' 'Yellow Leaf Curl Virus'\n",
            " 'Yellow Leaf Curl Virus' 'Yellow Leaf Curl Virus'\n",
            " 'Yellow Leaf Curl Virus' 'Yellow Leaf Curl Virus'\n",
            " 'Yellow Leaf Curl Virus' 'Yellow Leaf Curl Virus'\n",
            " 'Yellow Leaf Curl Virus' 'Yellow Leaf Curl Virus'\n",
            " 'Yellow Leaf Curl Virus' 'Yellow Leaf Curl Virus'\n",
            " 'Yellow Leaf Curl Virus' 'Yellow Leaf Curl Virus'\n",
            " 'Yellow Leaf Curl Virus' 'Yellow Leaf Curl Virus'\n",
            " 'Yellow Leaf Curl Virus' 'Yellow Leaf Curl Virus'\n",
            " 'Yellow Leaf Curl Virus' 'Yellow Leaf Curl Virus'\n",
            " 'Yellow Leaf Curl Virus' 'Yellow Leaf Curl Virus'\n",
            " 'Yellow Leaf Curl Virus' 'Yellow Leaf Curl Virus'\n",
            " 'Yellow Leaf Curl Virus' 'Yellow Leaf Curl Virus'\n",
            " 'Yellow Leaf Curl Virus' 'Yellow Leaf Curl Virus'\n",
            " 'Yellow Leaf Curl Virus' 'Yellow Leaf Curl Virus'\n",
            " 'Yellow Leaf Curl Virus' 'Yellow Leaf Curl Virus'\n",
            " 'Yellow Leaf Curl Virus' 'Yellow Leaf Curl Virus'\n",
            " 'Yellow Leaf Curl Virus' 'Yellow Leaf Curl Virus'\n",
            " 'Yellow Leaf Curl Virus' 'Yellow Leaf Curl Virus'\n",
            " 'Yellow Leaf Curl Virus' 'Yellow Leaf Curl Virus'\n",
            " 'Yellow Leaf Curl Virus' 'Yellow Leaf Curl Virus'\n",
            " 'Yellow Leaf Curl Virus' 'Yellow Leaf Curl Virus'\n",
            " 'Yellow Leaf Curl Virus' 'Yellow Leaf Curl Virus'\n",
            " 'Yellow Leaf Curl Virus' 'Yellow Leaf Curl Virus'\n",
            " 'Yellow Leaf Curl Virus' 'Yellow Leaf Curl Virus'\n",
            " 'Yellow Leaf Curl Virus' 'Yellow Leaf Curl Virus'\n",
            " 'Yellow Leaf Curl Virus' 'Yellow Leaf Curl Virus'\n",
            " 'Yellow Leaf Curl Virus' 'Yellow Leaf Curl Virus'\n",
            " 'Yellow Leaf Curl Virus' 'Yellow Leaf Curl Virus'\n",
            " 'Yellow Leaf Curl Virus' 'Yellow Leaf Curl Virus'\n",
            " 'Yellow Leaf Curl Virus' 'Yellow Leaf Curl Virus'\n",
            " 'Yellow Leaf Curl Virus' 'Yellow Leaf Curl Virus'\n",
            " 'Yellow Leaf Curl Virus' 'Yellow Leaf Curl Virus'\n",
            " 'Yellow Leaf Curl Virus' 'Yellow Leaf Curl Virus'\n",
            " 'Yellow Leaf Curl Virus' 'Yellow Leaf Curl Virus'\n",
            " 'Yellow Leaf Curl Virus' 'Yellow Leaf Curl Virus'\n",
            " 'Yellow Leaf Curl Virus' 'Yellow Leaf Curl Virus'\n",
            " 'Yellow Leaf Curl Virus' 'Yellow Leaf Curl Virus' 'Late Blight'\n",
            " 'Late Blight' 'Late Blight' 'Late Blight' 'Late Blight' 'Late Blight'\n",
            " 'Late Blight' 'Late Blight' 'Late Blight' 'Late Blight' 'Late Blight'\n",
            " 'Late Blight' 'Late Blight' 'Late Blight' 'Late Blight' 'Late Blight'\n",
            " 'Late Blight' 'Late Blight' 'Late Blight' 'Late Blight' 'Late Blight'\n",
            " 'Late Blight' 'Late Blight' 'Late Blight' 'Late Blight' 'Late Blight'\n",
            " 'Late Blight' 'Late Blight' 'Late Blight' 'Late Blight' 'Late Blight'\n",
            " 'Late Blight' 'Late Blight' 'Late Blight' 'Late Blight' 'Late Blight'\n",
            " 'Late Blight' 'Late Blight' 'Late Blight' 'Late Blight' 'Late Blight'\n",
            " 'Late Blight' 'Late Blight' 'Late Blight' 'Late Blight' 'Late Blight'\n",
            " 'Late Blight' 'Late Blight' 'Late Blight' 'Late Blight' 'Late Blight'\n",
            " 'Late Blight' 'Late Blight' 'Late Blight' 'Late Blight' 'Late Blight'\n",
            " 'Late Blight' 'Late Blight' 'Late Blight' 'Late Blight' 'Late Blight'\n",
            " 'Late Blight' 'Late Blight' 'Late Blight' 'Late Blight' 'Late Blight'\n",
            " 'Late Blight' 'Late Blight' 'Late Blight' 'Late Blight' 'Late Blight'\n",
            " 'Late Blight' 'Late Blight' 'Late Blight' 'Late Blight' 'Late Blight'\n",
            " 'Late Blight' 'Late Blight' 'Late Blight' 'Late Blight' 'Late Blight'\n",
            " 'Late Blight' 'Late Blight' 'Late Blight' 'Late Blight' 'Late Blight'\n",
            " 'Late Blight' 'Late Blight' 'Late Blight' 'Late Blight' 'Late Blight'\n",
            " 'Late Blight' 'Late Blight' 'Late Blight' 'Late Blight' 'Late Blight'\n",
            " 'Late Blight' 'Late Blight' 'Late Blight' 'Late Blight' 'Late Blight'\n",
            " 'Late Blight' 'Late Blight' 'Late Blight' 'Late Blight' 'Late Blight'\n",
            " 'Late Blight' 'Late Blight' 'Late Blight' 'Late Blight' 'Late Blight'\n",
            " 'Late Blight' 'Late Blight' 'Late Blight' 'Late Blight' 'Late Blight'\n",
            " 'Late Blight' 'Late Blight' 'Late Blight' 'Late Blight' 'Late Blight'\n",
            " 'Late Blight' 'Late Blight' 'Late Blight' 'Late Blight' 'Late Blight'\n",
            " 'Late Blight' 'Late Blight' 'Late Blight' 'Late Blight' 'Late Blight'\n",
            " 'Late Blight' 'Late Blight' 'Late Blight' 'Late Blight' 'Late Blight'\n",
            " 'Late Blight' 'Late Blight' 'Late Blight' 'Late Blight' 'Late Blight'\n",
            " 'Late Blight' 'Late Blight' 'Late Blight' 'Late Blight' 'Late Blight'\n",
            " 'Late Blight' 'Late Blight' 'Late Blight' 'Late Blight' 'Late Blight']\n"
          ]
        }
      ]
    },
    {
      "cell_type": "code",
      "source": [
        "# Normalize pixel values to the range of 0-1\n",
        "train_images = train_images.astype('float32') / 255.0\n",
        "val_images = val_images.astype('float32') / 255.0\n",
        "test_images = test_images.astype('float32') / 255.0"
      ],
      "metadata": {
        "id": "XeYzFfaOOIJS"
      },
      "execution_count": null,
      "outputs": []
    },
    {
      "cell_type": "code",
      "source": [
        "# # Save train_images\n",
        "# np.save('train_images.npy', train_images)\n",
        "\n",
        "# # Save val_images\n",
        "# np.save('val_images.npy', val_images)\n",
        "\n",
        "# # Save test_images\n",
        "# np.save('test_images.npy', test_images)\n"
      ],
      "metadata": {
        "id": "1jo_-771SKjV"
      },
      "execution_count": null,
      "outputs": []
    },
    {
      "cell_type": "code",
      "source": [
        "# Create an instance of OneHotEncoder\n",
        "encoder = OneHotEncoder()\n",
        "\n",
        "# Fit and transform the labels\n",
        "train_labels = encoder.fit_transform([[label] for label in train_labels]).toarray()\n",
        "test_labels = encoder.fit_transform([[label] for label in test_labels]).toarray()\n",
        "val_labels = encoder.fit_transform([[label] for label in val_labels]).toarray()"
      ],
      "metadata": {
        "id": "4Phz1Ii7Xe9T",
        "colab": {
          "base_uri": "https://localhost:8080/",
          "height": 382
        },
        "outputId": "353337ed-2e5e-4561-c4c3-2ab9b562ce45"
      },
      "execution_count": null,
      "outputs": [
        {
          "output_type": "error",
          "ename": "ValueError",
          "evalue": "Found array with dim 3. None expected <= 2.",
          "traceback": [
            "\u001b[0;31m---------------------------------------------------------------------------\u001b[0m",
            "\u001b[0;31mValueError\u001b[0m                                Traceback (most recent call last)",
            "\u001b[0;32m<ipython-input-34-23a63b25c3b6>\u001b[0m in \u001b[0;36m<cell line: 5>\u001b[0;34m()\u001b[0m\n\u001b[1;32m      3\u001b[0m \u001b[0;34m\u001b[0m\u001b[0m\n\u001b[1;32m      4\u001b[0m \u001b[0;31m# Fit and transform the labels\u001b[0m\u001b[0;34m\u001b[0m\u001b[0;34m\u001b[0m\u001b[0m\n\u001b[0;32m----> 5\u001b[0;31m \u001b[0mtrain_labels\u001b[0m \u001b[0;34m=\u001b[0m \u001b[0mencoder\u001b[0m\u001b[0;34m.\u001b[0m\u001b[0mfit_transform\u001b[0m\u001b[0;34m(\u001b[0m\u001b[0;34m[\u001b[0m\u001b[0;34m[\u001b[0m\u001b[0mlabel\u001b[0m\u001b[0;34m]\u001b[0m \u001b[0;32mfor\u001b[0m \u001b[0mlabel\u001b[0m \u001b[0;32min\u001b[0m \u001b[0mtrain_labels\u001b[0m\u001b[0;34m]\u001b[0m\u001b[0;34m)\u001b[0m\u001b[0;34m.\u001b[0m\u001b[0mtoarray\u001b[0m\u001b[0;34m(\u001b[0m\u001b[0;34m)\u001b[0m\u001b[0;34m\u001b[0m\u001b[0;34m\u001b[0m\u001b[0m\n\u001b[0m\u001b[1;32m      6\u001b[0m \u001b[0mtest_labels\u001b[0m \u001b[0;34m=\u001b[0m \u001b[0mencoder\u001b[0m\u001b[0;34m.\u001b[0m\u001b[0mfit_transform\u001b[0m\u001b[0;34m(\u001b[0m\u001b[0;34m[\u001b[0m\u001b[0;34m[\u001b[0m\u001b[0mlabel\u001b[0m\u001b[0;34m]\u001b[0m \u001b[0;32mfor\u001b[0m \u001b[0mlabel\u001b[0m \u001b[0;32min\u001b[0m \u001b[0mtest_labels\u001b[0m\u001b[0;34m]\u001b[0m\u001b[0;34m)\u001b[0m\u001b[0;34m.\u001b[0m\u001b[0mtoarray\u001b[0m\u001b[0;34m(\u001b[0m\u001b[0;34m)\u001b[0m\u001b[0;34m\u001b[0m\u001b[0;34m\u001b[0m\u001b[0m\n\u001b[1;32m      7\u001b[0m \u001b[0mval_labels\u001b[0m \u001b[0;34m=\u001b[0m \u001b[0mencoder\u001b[0m\u001b[0;34m.\u001b[0m\u001b[0mfit_transform\u001b[0m\u001b[0;34m(\u001b[0m\u001b[0;34m[\u001b[0m\u001b[0;34m[\u001b[0m\u001b[0mlabel\u001b[0m\u001b[0;34m]\u001b[0m \u001b[0;32mfor\u001b[0m \u001b[0mlabel\u001b[0m \u001b[0;32min\u001b[0m \u001b[0mval_labels\u001b[0m\u001b[0;34m]\u001b[0m\u001b[0;34m)\u001b[0m\u001b[0;34m.\u001b[0m\u001b[0mtoarray\u001b[0m\u001b[0;34m(\u001b[0m\u001b[0;34m)\u001b[0m\u001b[0;34m\u001b[0m\u001b[0;34m\u001b[0m\u001b[0m\n",
            "\u001b[0;32m/usr/local/lib/python3.10/dist-packages/sklearn/utils/_set_output.py\u001b[0m in \u001b[0;36mwrapped\u001b[0;34m(self, X, *args, **kwargs)\u001b[0m\n\u001b[1;32m    138\u001b[0m     \u001b[0;34m@\u001b[0m\u001b[0mwraps\u001b[0m\u001b[0;34m(\u001b[0m\u001b[0mf\u001b[0m\u001b[0;34m)\u001b[0m\u001b[0;34m\u001b[0m\u001b[0;34m\u001b[0m\u001b[0m\n\u001b[1;32m    139\u001b[0m     \u001b[0;32mdef\u001b[0m \u001b[0mwrapped\u001b[0m\u001b[0;34m(\u001b[0m\u001b[0mself\u001b[0m\u001b[0;34m,\u001b[0m \u001b[0mX\u001b[0m\u001b[0;34m,\u001b[0m \u001b[0;34m*\u001b[0m\u001b[0margs\u001b[0m\u001b[0;34m,\u001b[0m \u001b[0;34m**\u001b[0m\u001b[0mkwargs\u001b[0m\u001b[0;34m)\u001b[0m\u001b[0;34m:\u001b[0m\u001b[0;34m\u001b[0m\u001b[0;34m\u001b[0m\u001b[0m\n\u001b[0;32m--> 140\u001b[0;31m         \u001b[0mdata_to_wrap\u001b[0m \u001b[0;34m=\u001b[0m \u001b[0mf\u001b[0m\u001b[0;34m(\u001b[0m\u001b[0mself\u001b[0m\u001b[0;34m,\u001b[0m \u001b[0mX\u001b[0m\u001b[0;34m,\u001b[0m \u001b[0;34m*\u001b[0m\u001b[0margs\u001b[0m\u001b[0;34m,\u001b[0m \u001b[0;34m**\u001b[0m\u001b[0mkwargs\u001b[0m\u001b[0;34m)\u001b[0m\u001b[0;34m\u001b[0m\u001b[0;34m\u001b[0m\u001b[0m\n\u001b[0m\u001b[1;32m    141\u001b[0m         \u001b[0;32mif\u001b[0m \u001b[0misinstance\u001b[0m\u001b[0;34m(\u001b[0m\u001b[0mdata_to_wrap\u001b[0m\u001b[0;34m,\u001b[0m \u001b[0mtuple\u001b[0m\u001b[0;34m)\u001b[0m\u001b[0;34m:\u001b[0m\u001b[0;34m\u001b[0m\u001b[0;34m\u001b[0m\u001b[0m\n\u001b[1;32m    142\u001b[0m             \u001b[0;31m# only wrap the first output for cross decomposition\u001b[0m\u001b[0;34m\u001b[0m\u001b[0;34m\u001b[0m\u001b[0m\n",
            "\u001b[0;32m/usr/local/lib/python3.10/dist-packages/sklearn/base.py\u001b[0m in \u001b[0;36mfit_transform\u001b[0;34m(self, X, y, **fit_params)\u001b[0m\n\u001b[1;32m    876\u001b[0m         \u001b[0;32mif\u001b[0m \u001b[0my\u001b[0m \u001b[0;32mis\u001b[0m \u001b[0;32mNone\u001b[0m\u001b[0;34m:\u001b[0m\u001b[0;34m\u001b[0m\u001b[0;34m\u001b[0m\u001b[0m\n\u001b[1;32m    877\u001b[0m             \u001b[0;31m# fit method of arity 1 (unsupervised transformation)\u001b[0m\u001b[0;34m\u001b[0m\u001b[0;34m\u001b[0m\u001b[0m\n\u001b[0;32m--> 878\u001b[0;31m             \u001b[0;32mreturn\u001b[0m \u001b[0mself\u001b[0m\u001b[0;34m.\u001b[0m\u001b[0mfit\u001b[0m\u001b[0;34m(\u001b[0m\u001b[0mX\u001b[0m\u001b[0;34m,\u001b[0m \u001b[0;34m**\u001b[0m\u001b[0mfit_params\u001b[0m\u001b[0;34m)\u001b[0m\u001b[0;34m.\u001b[0m\u001b[0mtransform\u001b[0m\u001b[0;34m(\u001b[0m\u001b[0mX\u001b[0m\u001b[0;34m)\u001b[0m\u001b[0;34m\u001b[0m\u001b[0;34m\u001b[0m\u001b[0m\n\u001b[0m\u001b[1;32m    879\u001b[0m         \u001b[0;32melse\u001b[0m\u001b[0;34m:\u001b[0m\u001b[0;34m\u001b[0m\u001b[0;34m\u001b[0m\u001b[0m\n\u001b[1;32m    880\u001b[0m             \u001b[0;31m# fit method of arity 2 (supervised transformation)\u001b[0m\u001b[0;34m\u001b[0m\u001b[0;34m\u001b[0m\u001b[0m\n",
            "\u001b[0;32m/usr/local/lib/python3.10/dist-packages/sklearn/preprocessing/_encoders.py\u001b[0m in \u001b[0;36mfit\u001b[0;34m(self, X, y)\u001b[0m\n\u001b[1;32m    876\u001b[0m         \u001b[0mself\u001b[0m\u001b[0;34m.\u001b[0m\u001b[0m_check_infrequent_enabled\u001b[0m\u001b[0;34m(\u001b[0m\u001b[0;34m)\u001b[0m\u001b[0;34m\u001b[0m\u001b[0;34m\u001b[0m\u001b[0m\n\u001b[1;32m    877\u001b[0m \u001b[0;34m\u001b[0m\u001b[0m\n\u001b[0;32m--> 878\u001b[0;31m         fit_results = self._fit(\n\u001b[0m\u001b[1;32m    879\u001b[0m             \u001b[0mX\u001b[0m\u001b[0;34m,\u001b[0m\u001b[0;34m\u001b[0m\u001b[0;34m\u001b[0m\u001b[0m\n\u001b[1;32m    880\u001b[0m             \u001b[0mhandle_unknown\u001b[0m\u001b[0;34m=\u001b[0m\u001b[0mself\u001b[0m\u001b[0;34m.\u001b[0m\u001b[0mhandle_unknown\u001b[0m\u001b[0;34m,\u001b[0m\u001b[0;34m\u001b[0m\u001b[0;34m\u001b[0m\u001b[0m\n",
            "\u001b[0;32m/usr/local/lib/python3.10/dist-packages/sklearn/preprocessing/_encoders.py\u001b[0m in \u001b[0;36m_fit\u001b[0;34m(self, X, handle_unknown, force_all_finite, return_counts)\u001b[0m\n\u001b[1;32m     72\u001b[0m         \u001b[0mself\u001b[0m\u001b[0;34m.\u001b[0m\u001b[0m_check_n_features\u001b[0m\u001b[0;34m(\u001b[0m\u001b[0mX\u001b[0m\u001b[0;34m,\u001b[0m \u001b[0mreset\u001b[0m\u001b[0;34m=\u001b[0m\u001b[0;32mTrue\u001b[0m\u001b[0;34m)\u001b[0m\u001b[0;34m\u001b[0m\u001b[0;34m\u001b[0m\u001b[0m\n\u001b[1;32m     73\u001b[0m         \u001b[0mself\u001b[0m\u001b[0;34m.\u001b[0m\u001b[0m_check_feature_names\u001b[0m\u001b[0;34m(\u001b[0m\u001b[0mX\u001b[0m\u001b[0;34m,\u001b[0m \u001b[0mreset\u001b[0m\u001b[0;34m=\u001b[0m\u001b[0;32mTrue\u001b[0m\u001b[0;34m)\u001b[0m\u001b[0;34m\u001b[0m\u001b[0;34m\u001b[0m\u001b[0m\n\u001b[0;32m---> 74\u001b[0;31m         X_list, n_samples, n_features = self._check_X(\n\u001b[0m\u001b[1;32m     75\u001b[0m             \u001b[0mX\u001b[0m\u001b[0;34m,\u001b[0m \u001b[0mforce_all_finite\u001b[0m\u001b[0;34m=\u001b[0m\u001b[0mforce_all_finite\u001b[0m\u001b[0;34m\u001b[0m\u001b[0;34m\u001b[0m\u001b[0m\n\u001b[1;32m     76\u001b[0m         )\n",
            "\u001b[0;32m/usr/local/lib/python3.10/dist-packages/sklearn/preprocessing/_encoders.py\u001b[0m in \u001b[0;36m_check_X\u001b[0;34m(self, X, force_all_finite)\u001b[0m\n\u001b[1;32m     44\u001b[0m         \u001b[0;32mif\u001b[0m \u001b[0;32mnot\u001b[0m \u001b[0;34m(\u001b[0m\u001b[0mhasattr\u001b[0m\u001b[0;34m(\u001b[0m\u001b[0mX\u001b[0m\u001b[0;34m,\u001b[0m \u001b[0;34m\"iloc\"\u001b[0m\u001b[0;34m)\u001b[0m \u001b[0;32mand\u001b[0m \u001b[0mgetattr\u001b[0m\u001b[0;34m(\u001b[0m\u001b[0mX\u001b[0m\u001b[0;34m,\u001b[0m \u001b[0;34m\"ndim\"\u001b[0m\u001b[0;34m,\u001b[0m \u001b[0;36m0\u001b[0m\u001b[0;34m)\u001b[0m \u001b[0;34m==\u001b[0m \u001b[0;36m2\u001b[0m\u001b[0;34m)\u001b[0m\u001b[0;34m:\u001b[0m\u001b[0;34m\u001b[0m\u001b[0;34m\u001b[0m\u001b[0m\n\u001b[1;32m     45\u001b[0m             \u001b[0;31m# if not a dataframe, do normal check_array validation\u001b[0m\u001b[0;34m\u001b[0m\u001b[0;34m\u001b[0m\u001b[0m\n\u001b[0;32m---> 46\u001b[0;31m             \u001b[0mX_temp\u001b[0m \u001b[0;34m=\u001b[0m \u001b[0mcheck_array\u001b[0m\u001b[0;34m(\u001b[0m\u001b[0mX\u001b[0m\u001b[0;34m,\u001b[0m \u001b[0mdtype\u001b[0m\u001b[0;34m=\u001b[0m\u001b[0;32mNone\u001b[0m\u001b[0;34m,\u001b[0m \u001b[0mforce_all_finite\u001b[0m\u001b[0;34m=\u001b[0m\u001b[0mforce_all_finite\u001b[0m\u001b[0;34m)\u001b[0m\u001b[0;34m\u001b[0m\u001b[0;34m\u001b[0m\u001b[0m\n\u001b[0m\u001b[1;32m     47\u001b[0m             \u001b[0;32mif\u001b[0m \u001b[0;32mnot\u001b[0m \u001b[0mhasattr\u001b[0m\u001b[0;34m(\u001b[0m\u001b[0mX\u001b[0m\u001b[0;34m,\u001b[0m \u001b[0;34m\"dtype\"\u001b[0m\u001b[0;34m)\u001b[0m \u001b[0;32mand\u001b[0m \u001b[0mnp\u001b[0m\u001b[0;34m.\u001b[0m\u001b[0missubdtype\u001b[0m\u001b[0;34m(\u001b[0m\u001b[0mX_temp\u001b[0m\u001b[0;34m.\u001b[0m\u001b[0mdtype\u001b[0m\u001b[0;34m,\u001b[0m \u001b[0mnp\u001b[0m\u001b[0;34m.\u001b[0m\u001b[0mstr_\u001b[0m\u001b[0;34m)\u001b[0m\u001b[0;34m:\u001b[0m\u001b[0;34m\u001b[0m\u001b[0;34m\u001b[0m\u001b[0m\n\u001b[1;32m     48\u001b[0m                 \u001b[0mX\u001b[0m \u001b[0;34m=\u001b[0m \u001b[0mcheck_array\u001b[0m\u001b[0;34m(\u001b[0m\u001b[0mX\u001b[0m\u001b[0;34m,\u001b[0m \u001b[0mdtype\u001b[0m\u001b[0;34m=\u001b[0m\u001b[0mobject\u001b[0m\u001b[0;34m,\u001b[0m \u001b[0mforce_all_finite\u001b[0m\u001b[0;34m=\u001b[0m\u001b[0mforce_all_finite\u001b[0m\u001b[0;34m)\u001b[0m\u001b[0;34m\u001b[0m\u001b[0;34m\u001b[0m\u001b[0m\n",
            "\u001b[0;32m/usr/local/lib/python3.10/dist-packages/sklearn/utils/validation.py\u001b[0m in \u001b[0;36mcheck_array\u001b[0;34m(array, accept_sparse, accept_large_sparse, dtype, order, copy, force_all_finite, ensure_2d, allow_nd, ensure_min_samples, ensure_min_features, estimator, input_name)\u001b[0m\n\u001b[1;32m    913\u001b[0m             )\n\u001b[1;32m    914\u001b[0m         \u001b[0;32mif\u001b[0m \u001b[0;32mnot\u001b[0m \u001b[0mallow_nd\u001b[0m \u001b[0;32mand\u001b[0m \u001b[0marray\u001b[0m\u001b[0;34m.\u001b[0m\u001b[0mndim\u001b[0m \u001b[0;34m>=\u001b[0m \u001b[0;36m3\u001b[0m\u001b[0;34m:\u001b[0m\u001b[0;34m\u001b[0m\u001b[0;34m\u001b[0m\u001b[0m\n\u001b[0;32m--> 915\u001b[0;31m             raise ValueError(\n\u001b[0m\u001b[1;32m    916\u001b[0m                 \u001b[0;34m\"Found array with dim %d. %s expected <= 2.\"\u001b[0m\u001b[0;34m\u001b[0m\u001b[0;34m\u001b[0m\u001b[0m\n\u001b[1;32m    917\u001b[0m                 \u001b[0;34m%\u001b[0m \u001b[0;34m(\u001b[0m\u001b[0marray\u001b[0m\u001b[0;34m.\u001b[0m\u001b[0mndim\u001b[0m\u001b[0;34m,\u001b[0m \u001b[0mestimator_name\u001b[0m\u001b[0;34m)\u001b[0m\u001b[0;34m\u001b[0m\u001b[0;34m\u001b[0m\u001b[0m\n",
            "\u001b[0;31mValueError\u001b[0m: Found array with dim 3. None expected <= 2."
          ]
        }
      ]
    },
    {
      "cell_type": "code",
      "source": [
        "print(train_labels)"
      ],
      "metadata": {
        "id": "FgJPGAEDP8Cf"
      },
      "execution_count": null,
      "outputs": []
    },
    {
      "cell_type": "code",
      "source": [
        "# # Save train_images\n",
        "# np.save('train_labels.npy', train_labels)\n",
        "\n",
        "# # Save val_images\n",
        "# np.save('val_labels.npy', val_labels)\n",
        "\n",
        "# # Save test_images\n",
        "# np.save('test_labels.npy', test_labels)"
      ],
      "metadata": {
        "id": "UV3MbvOPn2SH"
      },
      "execution_count": null,
      "outputs": []
    },
    {
      "cell_type": "code",
      "source": [
        "# import numpy as np\n",
        "# from keras.preprocessing.image import ImageDataGenerator\n",
        "\n",
        "# # Assuming 'train_images' and 'train_labels' are your NumPy arrays\n",
        "\n",
        "# # Create an instance of ImageDataGenerator\n",
        "# datagen = ImageDataGenerator(\n",
        "#     rotation_range=60,  # Rotation range in degrees\n",
        "#     vertical_flip=True  # Enable vertical flipping\n",
        "# )\n",
        "\n",
        "# # Reshape train_images to 4D (required by ImageDataGenerator)\n",
        "# train_images_4D = train_images.reshape(train_images.shape[0], train_images.shape[1], train_images.shape[2], 3)\n",
        "\n",
        "# # Generate augmented images\n",
        "# augmented_images = []\n",
        "# augmented_labels = []\n",
        "# for img, label in zip(train_images_4D, train_labels):\n",
        "#     img_batch = np.expand_dims(img, axis=0)\n",
        "#     aug_iter = datagen.flow(img_batch, batch_size=1)\n",
        "#     for _ in range(4):  # Generate 4 augmented images for each original image\n",
        "#         augmented_img = next(aug_iter)[0].astype(np.uint8)\n",
        "#         augmented_images.append(augmented_img)\n",
        "#         augmented_labels.append(label)\n",
        "\n",
        "# # Convert augmented images and labels to NumPy arrays\n",
        "# augmented_images = np.array(augmented_images)\n",
        "# augmented_labels = np.array(augmented_labels)\n",
        "\n",
        "# # Reshape augmented_images to 4D (original shape)\n",
        "# augmented_images = augmented_images.reshape(\n",
        "#     augmented_images.shape[0], train_images.shape[1], train_images.shape[2], 3\n",
        "# )\n",
        "\n",
        "# # Concatenate augmented and original images and labels\n",
        "# final_train_images = np.concatenate((train_images, augmented_images), axis=0)\n",
        "# final_train_labels = np.concatenate((train_labels, augmented_labels), axis=0)\n",
        "\n",
        "# # Shuffle the data\n",
        "# shuffle_indices = np.random.permutation(final_train_images.shape[0])\n",
        "# final_train_images = final_train_images[shuffle_indices]\n",
        "# final_train_labels = final_train_labels[shuffle_indices]\n",
        "\n",
        "# -------NOTICE----------------------------------------------------------------------------------\n",
        "\n",
        "# caused colab to crash due to insufficient memory\n",
        "# will proceed with original data for now\n",
        "# will create the augmented data in parts, as it is very relevant to improving accuracy (i think)\n",
        "# can use CHUNKING -> https://pythonspeed.com/articles/chunking-pandas/\n",
        "# also I can resize from 256 x 256 to 128 x 128"
      ],
      "metadata": {
        "id": "n8bWVeK3HAwG"
      },
      "execution_count": null,
      "outputs": []
    },
    {
      "cell_type": "markdown",
      "source": [
        "# Train Model"
      ],
      "metadata": {
        "id": "zQ79gXEDonsr"
      }
    },
    {
      "cell_type": "code",
      "source": [
        "# # Fetch the saved np arrays\n",
        "\n",
        "# # Load the .npy file\n",
        "# test_images = np.load('/content/drive/MyDrive/archive/Apple (1)/test_images.npy')\n",
        "# test_labels = np.load('/content/drive/MyDrive/archive/Apple (1)/test_labels.npy')\n",
        "\n",
        "# train_images = np.load('/content/drive/MyDrive/archive/Apple (1)/train_images.npy')\n",
        "# train_labels = np.load('/content/drive/MyDrive/archive/Apple (1)/train_labels.npy')\n",
        "\n",
        "# val_images = np.load('/content/drive/MyDrive/archive/Apple (1)/val_images.npy')\n",
        "# val_labels = np.load('/content/drive/MyDrive/archive/Apple (1)/val_labels.npy')"
      ],
      "metadata": {
        "id": "rXG123dJRkqs"
      },
      "execution_count": null,
      "outputs": []
    },
    {
      "cell_type": "code",
      "source": [
        "# from keras.callbacks import ModelCheckpoint, EarlyStopping, ReduceLROnPlateau\n",
        "# import os\n",
        "\n",
        "# # Define the number of classes\n",
        "# num_classes = 3\n",
        "\n",
        "# # Create a CNN model\n",
        "# model = models.Sequential()\n",
        "# model.add(layers.Conv2D(32, (3, 3), activation='relu', input_shape=(128, 128, 3)))\n",
        "# model.add(layers.MaxPooling2D((2, 2)))\n",
        "# model.add(layers.Conv2D(64, (3, 3), activation='relu'))\n",
        "# model.add(layers.MaxPooling2D((2, 2)))\n",
        "# model.add(layers.Conv2D(64, (3, 3), activation='relu'))\n",
        "# model.add(layers.Flatten())\n",
        "# model.add(layers.Dense(64, activation='relu'))\n",
        "# model.add(layers.Dense(num_classes, activation='softmax'))\n",
        "\n",
        "# # Compile the model\n",
        "# model.compile(optimizer='adam',\n",
        "#               loss=tf.keras.losses.CategoricalCrossentropy(),\n",
        "#               metrics=['accuracy'])\n",
        "\n",
        "# # Define callbacks\n",
        "# early_stopping = EarlyStopping(patience=3, restore_best_weights=True)\n",
        "# reduce_lr = ReduceLROnPlateau(factor=0.1, patience=2)\n",
        "# model_dir = './saved_models'\n",
        "# if not os.path.exists(model_dir):\n",
        "#     os.makedirs(model_dir)\n",
        "# model_checkpoint = ModelCheckpoint(os.path.join(model_dir, 'model_{epoch:02d}.h5'), save_best_only=False)\n",
        "\n",
        "# # Initialize lists to store metrics at each epoch\n",
        "# accuracy_list = []\n",
        "# loss_list = []\n",
        "\n",
        "# # Train the model with callbacks\n",
        "# for epoch in range(1, 31):\n",
        "#     print(f'Epoch {epoch}/30')\n",
        "#     history = model.fit(train_images, train_labels, epochs=1, batch_size=16,\n",
        "#                         validation_data=(val_images, val_labels),\n",
        "#                         callbacks=[early_stopping, reduce_lr])\n",
        "\n",
        "#     # Evaluate the model on train data\n",
        "#     train_loss, train_accuracy = model.evaluate(train_images, train_labels, verbose=0)\n",
        "#     accuracy_list.append(round(train_accuracy, 6))\n",
        "#     loss_list.append(round(train_loss, 6))\n",
        "\n",
        "#     print(f'Train Loss: {train_loss:.4f}, Train Accuracy: {train_accuracy:.4f}')\n",
        "\n",
        "# # Evaluate the final model on test data\n",
        "# test_loss, test_accuracy = model.evaluate(test_images, test_labels)\n",
        "# print('Test Loss:', test_loss)\n",
        "# print('Test Accuracy:', test_accuracy)\n",
        "\n",
        "# # Retrieve training history\n",
        "# training_loss = history.history['loss']\n",
        "# validation_loss = history.history['val_loss']\n",
        "# training_accuracy = history.history['accuracy']\n",
        "# validation_accuracy = history.history['val_accuracy']\n",
        "\n",
        "# # Convert training history to lists\n",
        "# training_loss_list = list(training_loss)\n",
        "# validation_loss_list = list(validation_loss)\n",
        "# training_accuracy_list = list(training_accuracy)\n",
        "# validation_accuracy_list = list(validation_accuracy)\n"
      ],
      "metadata": {
        "id": "LTXvla1em-mt"
      },
      "execution_count": null,
      "outputs": []
    },
    {
      "cell_type": "code",
      "source": [
        "from keras.callbacks import ModelCheckpoint\n",
        "import os\n",
        "\n",
        "# Define the number of classes\n",
        "num_classes = 6\n",
        "\n",
        "# Create a CNN model\n",
        "model = models.Sequential()\n",
        "model.add(layers.Conv2D(32, (3, 3), activation='relu', input_shape=(128, 128, 3)))\n",
        "model.add(layers.MaxPooling2D((2, 2)))\n",
        "model.add(layers.Conv2D(64, (3, 3), activation='relu'))\n",
        "model.add(layers.MaxPooling2D((2, 2)))\n",
        "model.add(layers.Conv2D(64, (3, 3), activation='relu'))\n",
        "model.add(layers.Flatten())\n",
        "model.add(layers.Dense(64, activation='relu'))\n",
        "model.add(layers.Dense(num_classes, activation='softmax'))\n",
        "\n",
        "# Compile the model\n",
        "model.compile(optimizer='adam',\n",
        "              loss=tf.keras.losses.CategoricalCrossentropy(),\n",
        "              metrics=['accuracy'])\n",
        "\n",
        "# Define callbacks\n",
        "early_stopping = EarlyStopping(patience=3, restore_best_weights=True)\n",
        "reduce_lr = ReduceLROnPlateau(factor=0.1, patience=2)\n",
        "model_dir = './saved_models'\n",
        "if not os.path.exists(model_dir):\n",
        "    os.makedirs(model_dir)\n",
        "model_checkpoint = ModelCheckpoint(os.path.join(model_dir, 'model_{epoch:02d}.h5'), save_best_only=False)\n",
        "\n",
        "# Train the model with callbacks\n",
        "history = model.fit(train_images, train_labels, epochs=20, batch_size=32,\n",
        "                    validation_data=(val_images, val_labels),\n",
        "                    callbacks=[early_stopping, reduce_lr, model_checkpoint])\n",
        "\n",
        "# Evaluate each model on test data\n",
        "model_files = sorted(os.listdir(model_dir))\n",
        "for model_file in model_files:\n",
        "    model = tf.keras.models.load_model(os.path.join(model_dir, model_file))\n",
        "    test_loss, test_accuracy = model.evaluate(test_images, test_labels)\n",
        "    print(f'Model: {model_file}, Test Loss: {test_loss}, Test Accuracy: {test_accuracy}')\n",
        "\n",
        "# Retrieve training history\n",
        "training_loss = history.history['loss']\n",
        "validation_loss = history.history['val_loss']\n",
        "training_accuracy = history.history['accuracy']\n",
        "validation_accuracy = history.history['val_accuracy']\n",
        "\n",
        "# Convert training history to lists\n",
        "training_loss_list = list(training_loss)\n",
        "validation_loss_list = list(validation_loss)\n",
        "training_accuracy_list = list(training_accuracy)\n",
        "validation_accuracy_list = list(validation_accuracy)\n"
      ],
      "metadata": {
        "id": "81K2AKcjiPRk"
      },
      "execution_count": null,
      "outputs": []
    },
    {
      "cell_type": "code",
      "source": [
        "# from keras.callbacks import ModelCheckpoint, EarlyStopping, ReduceLROnPlateau\n",
        "# import os\n",
        "# from keras.regularizers import l2\n",
        "\n",
        "# # Define the number of classes\n",
        "# num_classes = 3\n",
        "\n",
        "# # Create a CNN model with regularization\n",
        "# model = models.Sequential()\n",
        "# model.add(layers.Conv2D(32, (3, 3), activation='relu', kernel_regularizer=l2(0.01), input_shape=(128, 128, 3)))\n",
        "# model.add(layers.MaxPooling2D((2, 2)))\n",
        "# model.add(layers.Conv2D(64, (3, 3), activation='relu', kernel_regularizer=l2(0.01)))\n",
        "# model.add(layers.MaxPooling2D((2, 2)))\n",
        "# model.add(layers.Conv2D(64, (3, 3), activation='relu', kernel_regularizer=l2(0.01)))\n",
        "# model.add(layers.Flatten())\n",
        "# model.add(layers.Dense(64, activation='relu', kernel_regularizer=l2(0.01)))\n",
        "# model.add(layers.Dropout(0.5))  # Dropout layer with a dropout rate of 0.5\n",
        "# model.add(layers.Dense(num_classes, activation='softmax'))\n",
        "\n",
        "# # Compile the model\n",
        "# model.compile(optimizer='adam',\n",
        "#               loss=tf.keras.losses.CategoricalCrossentropy(),\n",
        "#               metrics=['accuracy'])\n",
        "\n",
        "# # Define callbacks\n",
        "# early_stopping = EarlyStopping(patience=3, restore_best_weights=True)\n",
        "# reduce_lr = ReduceLROnPlateau(factor=0.1, patience=2)\n",
        "# model_dir = './saved_models'\n",
        "# if not os.path.exists(model_dir):\n",
        "#     os.makedirs(model_dir)\n",
        "# model_checkpoint = ModelCheckpoint(os.path.join(model_dir, 'model_{epoch:02d}.h5'), save_best_only=False)\n",
        "\n",
        "# # Train the model with callbacks\n",
        "# history = model.fit(train_images, train_labels, epochs=20, batch_size=32,\n",
        "#                     validation_data=(val_images, val_labels),\n",
        "#                     callbacks=[early_stopping, reduce_lr, model_checkpoint])\n",
        "\n",
        "# # Evaluate each model on test data\n",
        "# model_files = sorted(os.listdir(model_dir))\n",
        "# for model_file in model_files:\n",
        "#     model = tf.keras.models.load_model(os.path.join(model_dir, model_file))\n",
        "#     test_loss, test_accuracy = model.evaluate(test_images, test_labels)\n",
        "#     print(f'Model: {model_file}, Test Loss: {test_loss}, Test Accuracy: {test_accuracy}')\n",
        "\n",
        "# # Retrieve training history\n",
        "# training_loss = history.history['loss']\n",
        "# validation_loss = history.history['val_loss']\n",
        "# training_accuracy = history.history['accuracy']\n",
        "# validation_accuracy = history.history['val_accuracy']\n",
        "\n",
        "# # Convert training history to lists\n",
        "# training_loss_list = list(training_loss)\n",
        "# validation_loss_list = list(validation_loss)\n",
        "# training_accuracy_list = list(training_accuracy)\n",
        "# validation_accuracy_list = list(validation_accuracy)\n"
      ],
      "metadata": {
        "id": "M4RpVaW7q01z"
      },
      "execution_count": null,
      "outputs": []
    },
    {
      "cell_type": "code",
      "source": [
        "import matplotlib.pyplot as plt\n",
        "# Plot training and validation accuracy\n",
        "plt.figure(figsize=(10, 5))\n",
        "plt.plot(training_accuracy_list, label='Training Accuracy')\n",
        "plt.plot(validation_accuracy_list, label='Validation Accuracy')\n",
        "plt.xlabel('Epoch')\n",
        "plt.ylabel('Accuracy')\n",
        "plt.title('Training and Validation Accuracy')\n",
        "plt.legend()\n",
        "plt.show()"
      ],
      "metadata": {
        "id": "qqF-SGUiXRob"
      },
      "execution_count": null,
      "outputs": []
    },
    {
      "cell_type": "code",
      "source": [
        "# Plot training and validation loss\n",
        "plt.figure(figsize=(10, 5))\n",
        "plt.plot(training_loss_list, label='Training Loss')\n",
        "plt.plot(validation_loss_list, label='Validation Loss')\n",
        "plt.xlabel('Epoch')\n",
        "plt.ylabel('Loss')\n",
        "plt.title('Training and Validation Loss')\n",
        "plt.legend()\n",
        "plt.show()"
      ],
      "metadata": {
        "id": "L3oMLEUzXcpD"
      },
      "execution_count": null,
      "outputs": []
    },
    {
      "cell_type": "code",
      "source": [
        "import os\n",
        "import matplotlib.pyplot as plt\n",
        "\n",
        "# Directory containing saved models\n",
        "model_dir = './saved_models'\n",
        "\n",
        "# List to store test loss and accuracy for each model\n",
        "test_loss_list = []\n",
        "test_accuracy_list = []\n",
        "model_names = []\n",
        "\n",
        "# Iterate through each model file\n",
        "for model_file in sorted(os.listdir(model_dir)):\n",
        "    # Load the model\n",
        "    model = tf.keras.models.load_model(os.path.join(model_dir, model_file))\n",
        "\n",
        "    # Evaluate the model on test data\n",
        "    test_loss, test_accuracy = model.evaluate(test_images, test_labels)\n",
        "    test_loss_list.append(test_loss)\n",
        "    test_accuracy_list.append(test_accuracy)\n",
        "    model_names.append(model_file)\n",
        "\n",
        "# Plotting\n",
        "plt.figure(figsize=(10, 6))\n",
        "plt.bar(model_names, test_accuracy_list, color='pink', label='Test Accuracy')\n",
        "plt.xlabel('Model')\n",
        "plt.ylabel('Accuracy')\n",
        "plt.title('Test Accuracy of Each Model')\n",
        "plt.xticks(rotation=45, ha='right')\n",
        "plt.legend()\n",
        "plt.tight_layout()\n",
        "plt.show()\n",
        "\n",
        "plt.figure(figsize=(10, 6))\n",
        "plt.bar(model_names, test_loss_list, color='cyan', label='Test Loss')\n",
        "plt.xlabel('Model')\n",
        "plt.ylabel('Loss')\n",
        "plt.title('Test Loss of Each Model')\n",
        "plt.xticks(rotation=45, ha='right')\n",
        "plt.legend()\n",
        "plt.tight_layout()\n",
        "plt.show()\n"
      ],
      "metadata": {
        "id": "7YWrEKBwPNGy"
      },
      "execution_count": null,
      "outputs": []
    },
    {
      "cell_type": "code",
      "source": [
        "import numpy as np\n",
        "import matplotlib.pyplot as plt\n",
        "from sklearn.metrics import confusion_matrix\n",
        "import itertools\n",
        "\n",
        "# Load the best model from the saved models directory\n",
        "best_model_path = os.path.join(model_dir, 'model_09.h5')\n",
        "best_model = tf.keras.models.load_model(best_model_path)\n",
        "\n",
        "# Get predictions for test data\n",
        "predictions = best_model.predict(test_images)\n",
        "predicted_labels = np.argmax(predictions, axis=1)\n",
        "\n",
        "# Get true labels\n",
        "true_labels = np.argmax(test_labels, axis=1)\n",
        "\n",
        "# Compute confusion matrix\n",
        "cm = confusion_matrix(true_labels, predicted_labels)\n",
        "\n",
        "# Plot confusion matrix\n",
        "def plot_confusion_matrix(cm, classes, normalize=False, title='Confusion matrix', cmap=plt.cm.Blues):\n",
        "    if normalize:\n",
        "        cm = cm.astype('float') / cm.sum(axis=1)[:, np.newaxis]\n",
        "        print(\"Normalized confusion matrix\")\n",
        "    else:\n",
        "        print('Confusion matrix, without normalization')\n",
        "\n",
        "    plt.imshow(cm, interpolation='nearest', cmap=cmap)\n",
        "    plt.title(title)\n",
        "    plt.colorbar()\n",
        "    tick_marks = np.arange(len(classes))\n",
        "    plt.xticks(tick_marks, classes, rotation=45)\n",
        "    plt.yticks(tick_marks, classes)\n",
        "\n",
        "    fmt = '.2f' if normalize else 'd'\n",
        "    thresh = cm.max() / 2.\n",
        "    for i, j in itertools.product(range(cm.shape[0]), range(cm.shape[1])):\n",
        "        plt.text(j, i, format(cm[i, j], fmt),\n",
        "                 horizontalalignment=\"center\",\n",
        "                 color=\"white\" if cm[i, j] > thresh else \"black\")\n",
        "\n",
        "    plt.ylabel('True label')\n",
        "    plt.xlabel('Predicted label')\n",
        "    plt.tight_layout()\n",
        "\n",
        "# Plot non-normalized confusion matrix\n",
        "plt.figure(figsize=(8, 6))\n",
        "plot_confusion_matrix(cm, classes=['Class 0', 'Class 1', 'Class 2'], title='Confusion matrix, without normalization')\n",
        "\n",
        "# Plot normalized confusion matrix\n",
        "plt.figure(figsize=(8, 6))\n",
        "plot_confusion_matrix(cm, classes=['Class 0', 'Class 1', 'Class 2'], normalize=True, title='Normalized confusion matrix')\n",
        "\n",
        "plt.show()\n"
      ],
      "metadata": {
        "id": "Jate059uTkU0"
      },
      "execution_count": null,
      "outputs": []
    },
    {
      "cell_type": "code",
      "source": [
        "from sklearn.metrics import roc_curve, auc\n",
        "import numpy as np\n",
        "import matplotlib.pyplot as plt\n",
        "\n",
        "# Get predicted probabilities for each class\n",
        "predicted_probabilities = best_model.predict(test_images)\n",
        "\n",
        "# Compute ROC curve and ROC area for each class\n",
        "n_classes = predicted_probabilities.shape[1]\n",
        "fpr = dict()\n",
        "tpr = dict()\n",
        "roc_auc = dict()\n",
        "for i in range(n_classes):\n",
        "    fpr[i], tpr[i], _ = roc_curve(test_labels[:, i], predicted_probabilities[:, i])\n",
        "    roc_auc[i] = auc(fpr[i], tpr[i])\n",
        "\n",
        "# Compute micro-average ROC curve and ROC area\n",
        "fpr[\"micro\"], tpr[\"micro\"], _ = roc_curve(test_labels.ravel(), predicted_probabilities.ravel())\n",
        "roc_auc[\"micro\"] = auc(fpr[\"micro\"], tpr[\"micro\"])\n",
        "\n",
        "# Plot micro-average ROC curve\n",
        "plt.figure()\n",
        "lw = 2\n",
        "plt.plot(fpr[\"micro\"], tpr[\"micro\"], color='darkorange', lw=lw, label='Micro-average ROC curve (area = %0.2f)' % roc_auc[\"micro\"])\n",
        "plt.plot([0, 1], [0, 1], color='navy', lw=lw, linestyle='--')\n",
        "plt.xlim([0.0, 1.0])\n",
        "plt.ylim([0.0, 1.05])\n",
        "plt.xlabel('False Positive Rate')\n",
        "plt.ylabel('True Positive Rate')\n",
        "plt.title('Micro-average Receiver Operating Characteristic (ROC) Curve')\n",
        "plt.legend(loc=\"lower right\")\n",
        "plt.show()\n",
        "\n",
        "print(\"Micro-average Area under the ROC curve (AUC):\", roc_auc[\"micro\"])\n"
      ],
      "metadata": {
        "id": "H2YzKqj_Tx8Q"
      },
      "execution_count": null,
      "outputs": []
    },
    {
      "cell_type": "code",
      "source": [
        "from sklearn.metrics import roc_curve, auc\n",
        "import numpy as np\n",
        "import matplotlib.pyplot as plt\n",
        "\n",
        "# Get predicted probabilities for each class\n",
        "predicted_probabilities = best_model.predict(test_images)\n",
        "\n",
        "# Compute ROC curve and ROC area for each class\n",
        "n_classes = predicted_probabilities.shape[1]\n",
        "fpr = dict()\n",
        "tpr = dict()\n",
        "roc_auc = dict()\n",
        "for i in range(n_classes):\n",
        "    fpr[i], tpr[i], _ = roc_curve(test_labels[:, i], predicted_probabilities[:, i])\n",
        "    roc_auc[i] = auc(fpr[i], tpr[i])\n",
        "\n",
        "# Compute micro-average ROC curve and ROC area\n",
        "fpr[\"micro\"], tpr[\"micro\"], _ = roc_curve(test_labels.ravel(), predicted_probabilities.ravel())\n",
        "roc_auc[\"micro\"] = auc(fpr[\"micro\"], tpr[\"micro\"])\n",
        "\n",
        "# Plot micro-average ROC curve\n",
        "plt.figure()\n",
        "lw = 2\n",
        "plt.plot(fpr[\"micro\"], tpr[\"micro\"], color='darkorange', lw=lw, label='Micro-average ROC curve (area = %0.2f)' % roc_auc[\"micro\"])\n",
        "plt.plot([0, 1], [0, 1], color='navy', lw=lw, linestyle='--')\n",
        "plt.xlim([0.0, 1.0])\n",
        "plt.ylim([0.0, 1.05])\n",
        "plt.xlabel('False Positive Rate')\n",
        "plt.ylabel('True Positive Rate')\n",
        "plt.title('Micro-average Receiver Operating Characteristic (ROC) Curve')\n",
        "plt.legend(loc=\"lower right\")\n",
        "plt.show()\n",
        "\n",
        "print(\"Micro-average Area under the ROC curve (AUC):\", roc_auc[\"micro\"])\n"
      ],
      "metadata": {
        "id": "qtVj-8dusz4E"
      },
      "execution_count": null,
      "outputs": []
    },
    {
      "cell_type": "code",
      "source": [
        "from sklearn.metrics import accuracy_score\n",
        "\n",
        "# Get predicted labels for test data\n",
        "predicted_labels = np.argmax(predicted_probabilities, axis=1)\n",
        "\n",
        "# Compute accuracy\n",
        "accuracy = accuracy_score(true_labels, predicted_labels)\n",
        "print(\"Accuracy:\", accuracy)\n"
      ],
      "metadata": {
        "id": "btTMfr6as7Ly"
      },
      "execution_count": null,
      "outputs": []
    },
    {
      "cell_type": "code",
      "source": [
        "from sklearn.metrics import precision_score, recall_score, f1_score\n",
        "\n",
        "# Compute macro-average precision, recall, and F1 score\n",
        "macro_precision = precision_score(true_labels, predicted_labels, average='macro')\n",
        "macro_recall = recall_score(true_labels, predicted_labels, average='macro')\n",
        "macro_f1 = f1_score(true_labels, predicted_labels, average='macro')\n",
        "\n",
        "# Compute micro-average precision, recall, and F1 score\n",
        "micro_precision = precision_score(true_labels, predicted_labels, average='micro')\n",
        "micro_recall = recall_score(true_labels, predicted_labels, average='micro')\n",
        "micro_f1 = f1_score(true_labels, predicted_labels, average='micro')\n",
        "\n",
        "print(\"Macro-average Precision:\", macro_precision)\n",
        "print(\"Macro-average Recall:\", macro_recall)\n",
        "print(\"Macro-average F1 Score:\", macro_f1)\n",
        "print(\"Micro-average Precision:\", micro_precision)\n",
        "print(\"Micro-average Recall:\", micro_recall)\n",
        "print(\"Micro-average F1 Score:\", micro_f1)\n"
      ],
      "metadata": {
        "id": "XSSp28OKs84r"
      },
      "execution_count": null,
      "outputs": []
    },
    {
      "cell_type": "code",
      "source": [
        "from sklearn.metrics import cohen_kappa_score\n",
        "\n",
        "# Compute Cohen's Kappa\n",
        "kappa = cohen_kappa_score(true_labels, predicted_labels)\n",
        "print(\"Cohen's Kappa:\", kappa)\n"
      ],
      "metadata": {
        "id": "7-1VqCiSs_5-"
      },
      "execution_count": null,
      "outputs": []
    },
    {
      "cell_type": "code",
      "source": [
        "from sklearn.metrics import log_loss\n",
        "\n",
        "# Compute log loss\n",
        "logloss = log_loss(true_labels, predicted_probabilities)\n",
        "print(\"Log Loss (Cross-Entropy Loss):\", logloss)\n"
      ],
      "metadata": {
        "id": "UA7S9OxwtCuu"
      },
      "execution_count": null,
      "outputs": []
    }
  ]
}